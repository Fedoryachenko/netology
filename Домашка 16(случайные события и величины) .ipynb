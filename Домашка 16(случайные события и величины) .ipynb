{
 "cells": [
  {
   "cell_type": "markdown",
   "id": "bd9a3f93",
   "metadata": {},
   "source": [
    "\n",
    "Смоделировать игру против лотерейного автомата типа “777”. Игрок платит 1 руб., после чего выпадает случайное целое число, равномерно распределенное от 0 до 999. При некоторых значениях числа игрок получает выигрыш.\n",
    "\n",
    "\n",
    " 777: 200 руб.\n",
    " \n",
    " 999: 100 руб.\n",
    " \n",
    " 555: 50 руб.\n",
    " \n",
    " 333: 15 руб.\n",
    " \n",
    " 111: 10 руб.\n",
    " \n",
    " *77: 5 руб.\n",
    " \n",
    " **7: 3 руб.\n",
    " \n",
    " *00: 2 руб.\n",
    " \n",
    " **0: 1 руб.\n",
    "\n",
    "\n",
    "\n",
    "Вопросы:\n",
    "\n",
    "-Выгодна ли игра игроку?\n",
    "\n",
    "-Сколько в среднем приобретает или теряет игрок за одну игру?\n"
   ]
  },
  {
   "cell_type": "code",
   "execution_count": 7,
   "id": "abbadfe8",
   "metadata": {},
   "outputs": [],
   "source": [
    "import numpy as np"
   ]
  },
  {
   "cell_type": "code",
   "execution_count": 99,
   "id": "e5bda325",
   "metadata": {},
   "outputs": [
    {
     "name": "stdout",
     "output_type": "stream",
     "text": [
      "Количество попыток :  1000000\n",
      "Выгода от игр :  -205364\n",
      "Вероятность выигрыша :  0.203905\n",
      "Вероятность проигрыша :  0.796095\n",
      "Стоимость 1 игры : 1.0\n",
      "Выигрыш за одну игру (итог) :  0.8\n"
     ]
    }
   ],
   "source": [
    "trails = 1000000\n",
    "successes = []\n",
    "balance = []\n",
    "fail = 0\n",
    "\n",
    "for i in range(trails):\n",
    "    random_score = np.random.randint(0, 1000)\n",
    "    if random_score == 777:\n",
    "        balance.append(200)\n",
    "        successes.append(random_score)\n",
    "    elif random_score == 999:\n",
    "        balance.append(100)\n",
    "        successes.append(random_score)\n",
    "    elif random_score == 555:\n",
    "        balance.append(50)\n",
    "        successes.append(random_score)\n",
    "    elif random_score == 333:\n",
    "        balance.append(15)\n",
    "        successes.append(random_score)\n",
    "    elif random_score == 111:\n",
    "        balance.append(10)\n",
    "        successes.append(random_score)\n",
    "    elif random_score % 100 == 77:\n",
    "        balance.append(5)\n",
    "        successes.append(random_score)\n",
    "    elif random_score % 10 ==7:\n",
    "        balance.append(3)\n",
    "        successes.append(random_score)\n",
    "    elif random_score %100 == 0:\n",
    "        balance.append(2)\n",
    "        successes.append(random_score)\n",
    "    elif random_score %10 == 0:\n",
    "        balance.append(1)\n",
    "        successes.append(random_score)\n",
    "    else:\n",
    "        fail += 1\n",
    "            \n",
    "\n",
    "            \n",
    "profit = sum(balance) - trails   #Количество средств выгранных за 1 млн игр - количество потрачееных средств(при условии что игра стоит 1р)\n",
    "win_ = len(balance) / trails     #Вероятность выиграша (выигрыш деленный на попытки)\n",
    "fail_ = fail / trails            #Вероятность проигрыша (проигрыши деленные на попытки)\n",
    "\n",
    "\n",
    "# не нашла как лучше, считала вручную следующие данные (выгрышное совпадение / на все совпадения)\n",
    "prob1 = 0.001 #вероятность выпадения 999\n",
    "prob2 = 0.001 #вероятность выпадения 777\n",
    "prob3 = 0.001 #вероятность выпадения 555\n",
    "prob4 = 0.001 #вероятность выпадения 333\n",
    "prob5 = 0.001 #вероятность выпадения 111\n",
    "prob6 = 0.009 #вероятность выпадения *77\n",
    "prob7 = 0.09  #вероятность выпадения **7\n",
    "prob8 = 0.01  #вероятность выпадения *00\n",
    "prob9 = 0.09  #вероятность выпадения **0\n",
    "\n",
    "result = (200 * prob1) + (100 * prob2) + (50 * prob3) + (15 * prob4) + (10 * prob5) + (5 * prob6) + (3 * prob7) + (2 * prob8) + (1 * prob9)\n",
    "\n",
    "print('Количество попыток : ', trails)\n",
    "print('Выгода от игр : ', profit)          \n",
    "print('Вероятность выигрыша : ', win_)\n",
    "print('Вероятность проигрыша : ', fail_)\n",
    "print('Стоимость 1 игры : 1.0')\n",
    "print('Выигрыш за одну игру (итог) : ', result)         \n",
    "\n",
    "\n",
    "\n",
    "#Игра игроку не выгодна, он тратит 1р, а выигрывает 0.8 в среднем за все игры"
   ]
  },
  {
   "cell_type": "code",
   "execution_count": null,
   "id": "9f76ea16",
   "metadata": {},
   "outputs": [],
   "source": []
  }
 ],
 "metadata": {
  "kernelspec": {
   "display_name": "Python 3 (ipykernel)",
   "language": "python",
   "name": "python3"
  },
  "language_info": {
   "codemirror_mode": {
    "name": "ipython",
    "version": 3
   },
   "file_extension": ".py",
   "mimetype": "text/x-python",
   "name": "python",
   "nbconvert_exporter": "python",
   "pygments_lexer": "ipython3",
   "version": "3.9.7"
  }
 },
 "nbformat": 4,
 "nbformat_minor": 5
}
