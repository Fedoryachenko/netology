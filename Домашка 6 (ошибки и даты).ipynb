{
 "cells": [
  {
   "cell_type": "markdown",
   "id": "c7b974ae",
   "metadata": {},
   "source": [
    "- задача 1"
   ]
  },
  {
   "cell_type": "code",
   "execution_count": null,
   "id": "49a1c603",
   "metadata": {},
   "outputs": [],
   "source": [
    "The Moscow Times - Wednesday, October 2, 2002\n",
    "The Guardian - Friday, 11.10.13\n",
    "Daily News - Thursday, 18 August 1977"
   ]
  },
  {
   "cell_type": "code",
   "execution_count": 20,
   "id": "736a5507",
   "metadata": {},
   "outputs": [],
   "source": [
    "from datetime import datetime "
   ]
  },
  {
   "cell_type": "code",
   "execution_count": 21,
   "id": "6381a0e1",
   "metadata": {},
   "outputs": [],
   "source": [
    "the_moscow_times = 'Wednesday, October 2, 2002'\n",
    "the_guardian = 'Friday, 11.10.13'\n",
    "daily_news = 'Thursday, 18 August 1977'"
   ]
  },
  {
   "cell_type": "code",
   "execution_count": 22,
   "id": "19138d10",
   "metadata": {},
   "outputs": [
    {
     "data": {
      "text/plain": [
       "datetime.datetime(2002, 10, 2, 0, 0)"
      ]
     },
     "execution_count": 22,
     "metadata": {},
     "output_type": "execute_result"
    }
   ],
   "source": [
    "the_moscow_times = datetime.strptime(the_moscow_times, '%A, %B %d, %Y')\n",
    "the_moscow_times"
   ]
  },
  {
   "cell_type": "code",
   "execution_count": 23,
   "id": "773e8b61",
   "metadata": {},
   "outputs": [
    {
     "data": {
      "text/plain": [
       "datetime.datetime(2013, 10, 11, 0, 0)"
      ]
     },
     "execution_count": 23,
     "metadata": {},
     "output_type": "execute_result"
    }
   ],
   "source": [
    "the_guardian = datetime.strptime(the_guardian, '%A, %d.%m.%y')\n",
    "the_guardian"
   ]
  },
  {
   "cell_type": "code",
   "execution_count": 24,
   "id": "6db0bd4a",
   "metadata": {},
   "outputs": [
    {
     "data": {
      "text/plain": [
       "datetime.datetime(1977, 8, 18, 0, 0)"
      ]
     },
     "execution_count": 24,
     "metadata": {},
     "output_type": "execute_result"
    }
   ],
   "source": [
    "daily_news = datetime.strptime(daily_news, '%A, %d %B %Y')\n",
    "daily_news"
   ]
  },
  {
   "cell_type": "markdown",
   "id": "a5fec5f8",
   "metadata": {},
   "source": [
    "- Задача 2 "
   ]
  },
  {
   "cell_type": "code",
   "execution_count": 25,
   "id": "04c4521d",
   "metadata": {},
   "outputs": [],
   "source": [
    "stream = ['2018-04-02', '2018-02-29', '2018-19-02']"
   ]
  },
  {
   "cell_type": "code",
   "execution_count": 26,
   "id": "0efbf6ad",
   "metadata": {},
   "outputs": [
    {
     "name": "stdout",
     "output_type": "stream",
     "text": [
      "2018-04-02 True\n",
      "2018-02-29 False\n",
      "2018-19-02 False\n"
     ]
    }
   ],
   "source": [
    "def checking_the_date():\n",
    "    for date in stream:\n",
    "        try: \n",
    "            date_stream = datetime.strptime(date, '%Y-%m-%d')\n",
    "            print(date, True)\n",
    "        except: \n",
    "            print(date, False)\n",
    "            \n",
    "checking_the_date()           \n",
    "    "
   ]
  },
  {
   "cell_type": "markdown",
   "id": "ea0a148f",
   "metadata": {},
   "source": [
    "- Задача 3\n"
   ]
  },
  {
   "cell_type": "code",
   "execution_count": 27,
   "id": "765cf051",
   "metadata": {},
   "outputs": [],
   "source": [
    "from datetime import timedelta"
   ]
  },
  {
   "cell_type": "code",
   "execution_count": 58,
   "id": "43ce0822",
   "metadata": {},
   "outputs": [
    {
     "name": "stdout",
     "output_type": "stream",
     "text": [
      "start_date: 2021-02-30\n",
      "end_date: 2021-02-31\n"
     ]
    },
    {
     "data": {
      "text/plain": [
       "[]"
      ]
     },
     "execution_count": 58,
     "metadata": {},
     "output_type": "execute_result"
    }
   ],
   "source": [
    "start_date = input('start_date: ')\n",
    "end_date = input('end_date: ')\n",
    "\n",
    "def date_range():\n",
    "    days = []\n",
    "    try:\n",
    "        date_1 = datetime.strptime (start_date, '%Y-%m-%d')\n",
    "        date_2 = datetime.strptime (end_date, '%Y-%m-%d')\n",
    "    except:\n",
    "        return days \n",
    "    \n",
    "    while date_1 <= date_2:\n",
    "        date_1 += timedelta (days = 1)\n",
    "        date_datetime = datetime.strftime (date_1,'%Y-%m-%d')\n",
    "        days.append (date_datetime)\n",
    "    return days\n",
    "\n",
    "\n",
    "date_range()\n"
   ]
  },
  {
   "cell_type": "markdown",
   "id": "d43033c3",
   "metadata": {},
   "source": [
    "- Задача 4"
   ]
  },
  {
   "cell_type": "code",
   "execution_count": 51,
   "id": "2fc0e9ea",
   "metadata": {},
   "outputs": [],
   "source": [
    "DEFAULT_USER_COUNT = 3\n",
    "\n",
    "def delete_and_return_last_user(region, default_list=['A100', 'A101', 'A102']):\n",
    "    \"\"\"\n",
    "    Удаляет из списка default_list последнего пользователя\n",
    "    и возвращает ID нового последнего пользователя.\n",
    "    \"\"\"\n",
    "    element_to_delete = default_list[-1]\n",
    "    default_list.remove(element_to_delete)\n",
    "\n",
    "\n",
    "    return default_list[DEFAULT_USER_COUNT-2]\n",
    "\n"
   ]
  },
  {
   "cell_type": "markdown",
   "id": "e45cd62a",
   "metadata": {},
   "source": [
    "- Что значит ошибка list index out of range?\n",
    "\n",
    "\n",
    "  Эта ошибка означает выход за диапозон индексов, которые запомнила программа.\n",
    " \n",
    " \n",
    "- Почему при первом запуске функция работает корректно, а при втором - нет?\n",
    "\n",
    "\n",
    "\n",
    "  Дело в указанных индексах, мы стираем число, возвращая последнее новое, но кпрограмма изначально запомнила другой порядок чисел, и при повторном вызове ей уже не удается удалить другое число и вернуть новое."
   ]
  },
  {
   "cell_type": "code",
   "execution_count": 54,
   "id": "a12cd6e1",
   "metadata": {},
   "outputs": [
    {
     "ename": "IndexError",
     "evalue": "list index out of range",
     "output_type": "error",
     "traceback": [
      "\u001b[0;31m---------------------------------------------------------------------------\u001b[0m",
      "\u001b[0;31mIndexError\u001b[0m                                Traceback (most recent call last)",
      "\u001b[0;32m/var/folders/0l/5d6rpb6j07zbqghq7qmrdvgw0000gn/T/ipykernel_69609/1688118135.py\u001b[0m in \u001b[0;36m<module>\u001b[0;34m\u001b[0m\n\u001b[0;32m----> 1\u001b[0;31m \u001b[0mdelete_and_return_last_user\u001b[0m\u001b[0;34m(\u001b[0m\u001b[0;36m1\u001b[0m\u001b[0;34m)\u001b[0m\u001b[0;34m\u001b[0m\u001b[0;34m\u001b[0m\u001b[0m\n\u001b[0m",
      "\u001b[0;32m/var/folders/0l/5d6rpb6j07zbqghq7qmrdvgw0000gn/T/ipykernel_69609/1056910163.py\u001b[0m in \u001b[0;36mdelete_and_return_last_user\u001b[0;34m(region, default_list)\u001b[0m\n\u001b[1;32m     10\u001b[0m \u001b[0;34m\u001b[0m\u001b[0m\n\u001b[1;32m     11\u001b[0m \u001b[0;34m\u001b[0m\u001b[0m\n\u001b[0;32m---> 12\u001b[0;31m     \u001b[0;32mreturn\u001b[0m \u001b[0mdefault_list\u001b[0m\u001b[0;34m[\u001b[0m\u001b[0mDEFAULT_USER_COUNT\u001b[0m\u001b[0;34m-\u001b[0m\u001b[0;36m2\u001b[0m\u001b[0;34m]\u001b[0m\u001b[0;34m\u001b[0m\u001b[0;34m\u001b[0m\u001b[0m\n\u001b[0m\u001b[1;32m     13\u001b[0m \u001b[0;34m\u001b[0m\u001b[0m\n",
      "\u001b[0;31mIndexError\u001b[0m: list index out of range"
     ]
    }
   ],
   "source": [
    "delete_and_return_last_user(1)"
   ]
  },
  {
   "cell_type": "code",
   "execution_count": null,
   "id": "bdf852b8",
   "metadata": {},
   "outputs": [],
   "source": []
  }
 ],
 "metadata": {
  "kernelspec": {
   "display_name": "Python 3 (ipykernel)",
   "language": "python",
   "name": "python3"
  },
  "language_info": {
   "codemirror_mode": {
    "name": "ipython",
    "version": 3
   },
   "file_extension": ".py",
   "mimetype": "text/x-python",
   "name": "python",
   "nbconvert_exporter": "python",
   "pygments_lexer": "ipython3",
   "version": "3.9.7"
  },
  "widgets": {
   "application/vnd.jupyter.widget-state+json": {
    "state": {},
    "version_major": 2,
    "version_minor": 0
   }
  }
 },
 "nbformat": 4,
 "nbformat_minor": 5
}
