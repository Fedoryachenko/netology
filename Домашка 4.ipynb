{
 "cells": [
  {
   "cell_type": "code",
   "execution_count": 456,
   "id": "3704c6da",
   "metadata": {},
   "outputs": [],
   "source": [
    "documents = [\n",
    " {'type': 'passport', 'number': '2207 876234', 'name': 'Василий Гупкин'},\n",
    " {'type': 'invoice', 'number': '11-2', 'name': 'Геннадий Покемонов'},\n",
    " {'type': 'insurance', 'number': '10006', 'name': 'Аристарх Павлов'}\n",
    "]\n",
    "\n"
   ]
  },
  {
   "cell_type": "code",
   "execution_count": 457,
   "id": "f432002e",
   "metadata": {},
   "outputs": [],
   "source": [
    "directories = {\n",
    " '1': ['2207 876234', '11-2'],\n",
    " '2': ['10006'],\n",
    " '3': []\n",
    "}\n"
   ]
  },
  {
   "cell_type": "code",
   "execution_count": 310,
   "id": "a4600158",
   "metadata": {},
   "outputs": [
    {
     "name": "stdout",
     "output_type": "stream",
     "text": [
      "Введите номер документа:11-2\n",
      "Владелец документа: Геннадий Покемонов\n"
     ]
    }
   ],
   "source": [
    "def p():\n",
    "    doc = input('Введите номер документа:')\n",
    "    for i in documents:\n",
    "        if i['number'] == doc:\n",
    "            return print('Владелец документа:',i['name'])\n",
    "    return print('Документ не найден в базе')\n",
    "        \n",
    "p()"
   ]
  },
  {
   "cell_type": "code",
   "execution_count": 311,
   "id": "271922e4",
   "metadata": {},
   "outputs": [
    {
     "name": "stdout",
     "output_type": "stream",
     "text": [
      "Введите номер документа:11-2\n",
      "Документ хранится на полке: 1\n"
     ]
    }
   ],
   "source": [
    "def s():\n",
    "    doc = input('Введите номер документа:')\n",
    "    for k, v in directories.items():\n",
    "        for doc_n in v:\n",
    "            if doc_n == doc:\n",
    "                return print('Документ хранится на полке:', k)\n",
    "    return print('Документ не найден в базе')\n",
    "    \n",
    "s()\n",
    "    "
   ]
  },
  {
   "cell_type": "code",
   "execution_count": 343,
   "id": "e96d01ff",
   "metadata": {},
   "outputs": [
    {
     "name": "stdout",
     "output_type": "stream",
     "text": [
      "№, 2207 876234, тип:, passport, владелец:, Василий Гупкин, полка хранния:, 1\n",
      "№, 11-2, тип:, invoice, владелец:, Геннадий Покемонов, полка хранния:, 1\n",
      "№, 10006, тип:, insurance, владелец:, Аристарх Павлов, полка хранния:, 2\n"
     ]
    }
   ],
   "source": [
    "def l():\n",
    "    for inf in documents:\n",
    "        for k, v in directories.items():\n",
    "            for el in v:\n",
    "                if inf['number'] == el:\n",
    "                    print('№', inf['number'], 'тип:', inf['type'], 'владелец:', inf['name'], 'полка хранния:', k, sep = ', ')\n",
    "    \n",
    "\n",
    "l()"
   ]
  },
  {
   "cell_type": "code",
   "execution_count": 369,
   "id": "6407eb7f",
   "metadata": {},
   "outputs": [
    {
     "name": "stdout",
     "output_type": "stream",
     "text": [
      "Введите номер полки:2\n",
      "Такая полка уже существует. Текущий перечень полок: 1, 2, 3, 4, 5\n"
     ]
    }
   ],
   "source": [
    "def ads():\n",
    "    shelf = input('Введите номер полки:')\n",
    "    if directories.get(shelf) == None:\n",
    "        directories.update({shelf:[]})\n",
    "        print('Полка добавлена. Текущий перечень полок:', ', '.join(list(directories.keys())))\n",
    "    else:\n",
    "        print('Такая полка уже существует. Текущий перечень полок:', ', '.join(list(directories.keys())))\n",
    "        \n",
    "ads()"
   ]
  },
  {
   "cell_type": "code",
   "execution_count": 437,
   "id": "4fc46d4f",
   "metadata": {},
   "outputs": [
    {
     "name": "stdout",
     "output_type": "stream",
     "text": [
      "Введите номер полки:4\n",
      "Такой полки не существует. Текущий перечень полок: 1, 2\n"
     ]
    }
   ],
   "source": [
    "def ds():\n",
    "    shelf_number = input('Введите номер полки:')\n",
    "    if directories.get(shelf_number) == None:\n",
    "        print('Такой полки не существует. Текущий перечень полок:', ', '.join(list(directories.keys())))\n",
    "    elif len(directories[shelf_number]) > 0:\n",
    "        print('На полке есть документа, удалите их перед удалением полки. Текущий перечень полок:', ', '.join(list(directories.keys())))\n",
    "    else:\n",
    "        del directories[shelf_number]\n",
    "        print('Полка удалена. Текущий перечень полок:', ', '.join(list(directories.keys())))\n",
    "ds()   \n",
    "        \n",
    "    "
   ]
  },
  {
   "cell_type": "code",
   "execution_count": 451,
   "id": "b72fddc4",
   "metadata": {},
   "outputs": [],
   "source": [
    "def main():\n",
    "    while True:\n",
    "        enter = input('Введите команду:')\n",
    "        if enter == 'p':\n",
    "            return(p())\n",
    "        elif enter == 's':\n",
    "            return(s())\n",
    "        elif enter == 'l':\n",
    "            return(l())\n",
    "        elif enter == 'ads':\n",
    "            return(ads())\n",
    "        elif enter == 'ds':\n",
    "            return(ds())\n",
    "        elif enter == 'q':\n",
    "            return('Завершение работы программы')\n",
    "            break \n",
    "        else:\n",
    "            return('Неверная команда')\n",
    "            "
   ]
  },
  {
   "cell_type": "code",
   "execution_count": 467,
   "id": "60e5af86",
   "metadata": {},
   "outputs": [
    {
     "name": "stdout",
     "output_type": "stream",
     "text": [
      "Введите команду:ad\n"
     ]
    },
    {
     "data": {
      "text/plain": [
       "'Неверная команда'"
      ]
     },
     "execution_count": 467,
     "metadata": {},
     "output_type": "execute_result"
    }
   ],
   "source": [
    "main()"
   ]
  },
  {
   "cell_type": "code",
   "execution_count": null,
   "id": "3246e349",
   "metadata": {},
   "outputs": [],
   "source": []
  }
 ],
 "metadata": {
  "kernelspec": {
   "display_name": "Python 3 (ipykernel)",
   "language": "python",
   "name": "python3"
  },
  "language_info": {
   "codemirror_mode": {
    "name": "ipython",
    "version": 3
   },
   "file_extension": ".py",
   "mimetype": "text/x-python",
   "name": "python",
   "nbconvert_exporter": "python",
   "pygments_lexer": "ipython3",
   "version": "3.9.7"
  }
 },
 "nbformat": 4,
 "nbformat_minor": 5
}
