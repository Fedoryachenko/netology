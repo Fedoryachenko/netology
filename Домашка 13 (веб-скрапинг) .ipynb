{
 "cells": [
  {
   "cell_type": "markdown",
   "id": "c5ca96cf",
   "metadata": {},
   "source": [
    "- Обязательная часть\n",
    "\n",
    "Вам необходимо написать функцию, которая будет основана на поиске по сайту habr.com. Функция в качестве параметра должна принимать список запросов для поиска (например, ['python', 'анализ данных']) и на основе материалов, попавших в результаты поиска по каждому запросу, возвращать датафрейм вида:\n",
    "\n",
    "\n",
    "<дата> - <заголовок> - <ссылка на материал>\n",
    "\n",
    "\n",
    "В рамках задания предполагается работа только с одной (первой) страницей результатов поисковой выдачи для каждого запроса. Материалы в датафрейме не должны дублироваться, если они попадали в результаты поиска для нескольких запросов из списка."
   ]
  },
  {
   "cell_type": "code",
   "execution_count": 15,
   "id": "55bb3963",
   "metadata": {},
   "outputs": [],
   "source": [
    "import pandas as pd\n",
    "import requests\n",
    "from bs4 import BeautifulSoup"
   ]
  },
  {
   "cell_type": "code",
   "execution_count": 106,
   "id": "0d6dc71a",
   "metadata": {
    "scrolled": true
   },
   "outputs": [
    {
     "name": "stdout",
     "output_type": "stream",
     "text": [
      "анализ кино ушла\n"
     ]
    },
    {
     "data": {
      "text/html": [
       "<div>\n",
       "<style scoped>\n",
       "    .dataframe tbody tr th:only-of-type {\n",
       "        vertical-align: middle;\n",
       "    }\n",
       "\n",
       "    .dataframe tbody tr th {\n",
       "        vertical-align: top;\n",
       "    }\n",
       "\n",
       "    .dataframe thead th {\n",
       "        text-align: right;\n",
       "    }\n",
       "</style>\n",
       "<table border=\"1\" class=\"dataframe\">\n",
       "  <thead>\n",
       "    <tr style=\"text-align: right;\">\n",
       "      <th></th>\n",
       "      <th>date</th>\n",
       "      <th>title</th>\n",
       "      <th>link</th>\n",
       "    </tr>\n",
       "  </thead>\n",
       "  <tbody>\n",
       "    <tr>\n",
       "      <th>0</th>\n",
       "      <td>сегодня в 17:27</td>\n",
       "      <td>Как показаны дата-центры в кино и как они выгл...</td>\n",
       "      <td>/ru/company/selectel/blog/665912/</td>\n",
       "    </tr>\n",
       "    <tr>\n",
       "      <th>1</th>\n",
       "      <td>сегодня в 16:52</td>\n",
       "      <td>Сегментарный анализ на примере RFM-анализа сре...</td>\n",
       "      <td>/ru/post/665972/</td>\n",
       "    </tr>\n",
       "    <tr>\n",
       "      <th>2</th>\n",
       "      <td>сегодня в 16:43</td>\n",
       "      <td>Почему я ушла из команды Google WebAssembly</td>\n",
       "      <td>/ru/post/665916/</td>\n",
       "    </tr>\n",
       "  </tbody>\n",
       "</table>\n",
       "</div>"
      ],
      "text/plain": [
       "              date                                              title  \\\n",
       "0  сегодня в 17:27  Как показаны дата-центры в кино и как они выгл...   \n",
       "1  сегодня в 16:52  Сегментарный анализ на примере RFM-анализа сре...   \n",
       "2  сегодня в 16:43        Почему я ушла из команды Google WebAssembly   \n",
       "\n",
       "                                link  \n",
       "0  /ru/company/selectel/blog/665912/  \n",
       "1                   /ru/post/665972/  \n",
       "2                   /ru/post/665916/  "
      ]
     },
     "execution_count": 106,
     "metadata": {},
     "output_type": "execute_result"
    }
   ],
   "source": [
    "def search_on_habr(*enter):\n",
    "    enter = input().split()\n",
    "    \n",
    "    url = 'https://habr.com/ru/all/'\n",
    "    req = requests.get(url).text\n",
    "    soup = BeautifulSoup(req)\n",
    "    \n",
    "    news = soup.find_all('article', class_='tm-articles-list__item')\n",
    "    \n",
    "    habr_blog = pd.DataFrame()\n",
    "    \n",
    "    for el in news:\n",
    "        for word in enter: \n",
    "            if word in el.find('a', 'tm-article-snippet__title-link').text :\n",
    "                title = el.find('a', 'tm-article-snippet__title-link').text \n",
    "                date = el.find('span', 'tm-article-snippet__datetime-published').text\n",
    "                link = el.find('a', 'tm-article-snippet__title-link').get('href')\n",
    "                row = {'date': date, 'title': title, 'link': link}\n",
    "                habr_blog = pd.concat([habr_blog, pd.DataFrame([row])])\n",
    "    return habr_blog.reset_index(drop=True)\n",
    "\n",
    "search_on_habr()           "
   ]
  },
  {
   "cell_type": "code",
   "execution_count": null,
   "id": "99c3954a",
   "metadata": {},
   "outputs": [],
   "source": []
  },
  {
   "cell_type": "code",
   "execution_count": null,
   "id": "328cc036",
   "metadata": {},
   "outputs": [],
   "source": []
  }
 ],
 "metadata": {
  "kernelspec": {
   "display_name": "Python 3 (ipykernel)",
   "language": "python",
   "name": "python3"
  },
  "language_info": {
   "codemirror_mode": {
    "name": "ipython",
    "version": 3
   },
   "file_extension": ".py",
   "mimetype": "text/x-python",
   "name": "python",
   "nbconvert_exporter": "python",
   "pygments_lexer": "ipython3",
   "version": "3.9.7"
  }
 },
 "nbformat": 4,
 "nbformat_minor": 5
}
