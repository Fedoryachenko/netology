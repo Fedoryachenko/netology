{
 "cells": [
  {
   "cell_type": "code",
   "execution_count": 1,
   "id": "2571d90b",
   "metadata": {},
   "outputs": [
    {
     "name": "stdout",
     "output_type": "stream",
     "text": [
      "Введите слово:test\n",
      "e s\n"
     ]
    }
   ],
   "source": [
    "word = str(input('Введите слово:'))\n",
    "    \n",
    "len(word)\n",
    "middle_len = len(word)//2\n",
    "if len(word) % 2 != 0:\n",
    "  print(word[middle_len])\n",
    "else:\n",
    "  print(word[middle_len-1], word[middle_len])"
   ]
  },
  {
   "cell_type": "code",
   "execution_count": 2,
   "id": "57cdf404",
   "metadata": {},
   "outputs": [
    {
     "name": "stdout",
     "output_type": "stream",
     "text": [
      "Введите число:1\n",
      "Введите число:1\n",
      "Введите число:1\n",
      "Введите число:5\n",
      "Введите число:0\n",
      "8\n"
     ]
    }
   ],
   "source": [
    "result = 0\n",
    "while True:\n",
    "    number = int(input('Введите число:'))\n",
    "    if number == 0:\n",
    "        print(result)\n",
    "        break\n",
    "    else:\n",
    "        result += number"
   ]
  },
  {
   "cell_type": "code",
   "execution_count": 5,
   "id": "cfd406a5",
   "metadata": {},
   "outputs": [
    {
     "name": "stdout",
     "output_type": "stream",
     "text": [
      "Perfect matches:\n",
      "Alex and Emma\n",
      "Arthur and Kate\n",
      "John and Kira\n",
      "Peter and Liza\n",
      "Richard and Trisha\n"
     ]
    }
   ],
   "source": [
    "girls = ['Kate', 'Liza', 'Kira', 'Emma', 'Trisha']\n",
    "boys = ['Peter', 'Alex', 'John', 'Arthur', 'Richard']\n",
    "\n",
    "girls.sort()\n",
    "boys.sort()\n",
    "if len(boys) != len(girls):\n",
    "    print('Внимание, кто-то может остаться без пары!')\n",
    "else:\n",
    "    result = dict(zip(boys, girls))\n",
    "    print('Perfect matches:')\n",
    "    for boy, girl in result.items():\n",
    "        print(f'{boy} and {girl}')"
   ]
  },
  {
   "cell_type": "code",
   "execution_count": 4,
   "id": "24ef711b",
   "metadata": {},
   "outputs": [
    {
     "name": "stdout",
     "output_type": "stream",
     "text": [
      "Внимание, кто-то может остаться без пары!\n"
     ]
    }
   ],
   "source": [
    "boys = ['Peter', 'Alex', 'John', 'Arthur', 'Richard', 'Michael']\n",
    "girls = ['Kate', 'Liza', 'Kira', 'Emma', 'Trisha']\n",
    "\n",
    "girls.sort()\n",
    "boys.sort()\n",
    "if len(boys) != len(girls):\n",
    "    print('Внимание, кто-то может остаться без пары!')\n",
    "else:\n",
    "    result = dict(zip(boys, girls))\n",
    "    print('perfect matches:')\n",
    "    for boy, girl in result.items():\n",
    "        print(f'{boy} and {girl}')"
   ]
  },
  {
   "cell_type": "code",
   "execution_count": 19,
   "id": "39be3ed1",
   "metadata": {},
   "outputs": [
    {
     "name": "stdout",
     "output_type": "stream",
     "text": [
      "Средняя температура в странах:\n",
      "Thailand - 23.9 C\n",
      "Germany - 13.8 C\n",
      "Russia - 3.7 C\n",
      "Poland - 12.0 C\n"
     ]
    }
   ],
   "source": [
    "countries_temperature = [\n",
    "    ['Thailand', [75.2, 77, 78.8, 73.4, 68, 75.2, 77]],\n",
    "    ['Germany', [57.2, 55.4, 59, 59, 53.6]],\n",
    "    ['Russia', [35.6, 37.4, 39.2, 41, 42.8, 39.2, 35.6]],\n",
    "    ['Poland', [50, 50, 53.6, 57.2, 55.4, 55.4]]\n",
    "]\n",
    "\n",
    "print('Средняя температура в странах:')\n",
    "for c_countries in countries_temperature:\n",
    "    avarage_temperature = 0\n",
    "    for c_tempereture in c_countries[1]:\n",
    "        avarage_temperature += (c_tempereture - 32) * 5/9\n",
    "    avarage_temperature /= len(c_countries[1])\n",
    "    print(c_countries[0] + ' - '+ str(round(avarage_temperature, 1)) +  ' C')\n",
    "        \n"
   ]
  },
  {
   "cell_type": "code",
   "execution_count": null,
   "id": "a79bd014",
   "metadata": {},
   "outputs": [],
   "source": []
  }
 ],
 "metadata": {
  "kernelspec": {
   "display_name": "Python 3 (ipykernel)",
   "language": "python",
   "name": "python3"
  },
  "language_info": {
   "codemirror_mode": {
    "name": "ipython",
    "version": 3
   },
   "file_extension": ".py",
   "mimetype": "text/x-python",
   "name": "python",
   "nbconvert_exporter": "python",
   "pygments_lexer": "ipython3",
   "version": "3.9.7"
  }
 },
 "nbformat": 4,
 "nbformat_minor": 5
}
