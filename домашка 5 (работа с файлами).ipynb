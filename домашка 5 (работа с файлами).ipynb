{
 "cells": [
  {
   "cell_type": "code",
   "execution_count": 515,
   "id": "919fe69f",
   "metadata": {},
   "outputs": [
    {
     "data": {
      "text/plain": [
       "{'1840e0b9d4': 'Продукты',\n",
       " '4e4f90fcfb': 'Электроника',\n",
       " 'afea8d72fc': 'Электроника',\n",
       " '373a6055fe': 'Бытовая техника',\n",
       " '9b2ab046f3': 'Электроника',\n",
       " '9f39d307c3': 'Электроника',\n",
       " '44edeffc91': 'Продукты',\n",
       " '704474fa2d': 'Продукты',\n",
       " '1de31be403': 'Бытовая техника',\n",
       " 'b71f36a5e4': 'Продукты',\n",
       " '79843a685a': 'Продукты',\n",
       " 'ff68cee0d6': 'Бытовая техника',\n",
       " 'e8447c40e2': 'Досуг',\n",
       " '98d290be27': 'Электроника',\n",
       " 'fa0079a5a8': 'Досуг',\n",
       " '22d2f03a17': 'Досуг',\n",
       " '3f8e1ccd3f': 'Электроника',\n",
       " '81a9988b83': 'Электроника',\n",
       " '65f44a2eb7': 'Досуг',\n",
       " '5f8fbb0149': 'Бытовая техника',\n",
       " '3ecff691fd': 'Электроника'}"
      ]
     },
     "execution_count": 515,
     "metadata": {},
     "output_type": "execute_result"
    }
   ],
   "source": [
    "import json\n",
    "\n",
    "i = 0\n",
    "with open ( '/Users/anastasiafedoracenko/Desktop/Netology/python/Downloads/purchase_log.txt') as new_file:\n",
    "    new_file.readline()\n",
    "    purchases = {}\n",
    "    for line in new_file:\n",
    "        line = line.strip()\n",
    "        \n",
    "        dict1 = json.loads(line)\n",
    "       \n",
    "        key = dict1['user_id']\n",
    "        value = dict1['category']\n",
    "        dict1[key] = value\n",
    "        purchases.update({key:value})\n",
    "        \n",
    "        i += 1\n",
    "        if i > 20:\n",
    "            break\n",
    "\n",
    "purchases"
   ]
  },
  {
   "cell_type": "code",
   "execution_count": 513,
   "id": "8f7502d6",
   "metadata": {},
   "outputs": [],
   "source": [
    "with open('/Users/anastasiafedoracenko/Desktop/Netology/python/Downloads/visit_log.csv', 'r') as visit:\n",
    "    with open ('/Users/anastasiafedoracenko/Desktop/Netology/python/Downloads/funnel.csv', 'w') as funnel:\n",
    "        for line in visit:\n",
    "            visit_file = line.strip().split(',')\n",
    "            user_id = visit_file[0]\n",
    "            if user_id in purchases:\n",
    "                funnel.write(f'{visit_file, purchases[user_id]}\\n')\n",
    "   \n"
   ]
  },
  {
   "cell_type": "code",
   "execution_count": null,
   "id": "f2b62982",
   "metadata": {},
   "outputs": [],
   "source": []
  }
 ],
 "metadata": {
  "kernelspec": {
   "display_name": "Python 3 (ipykernel)",
   "language": "python",
   "name": "python3"
  },
  "language_info": {
   "codemirror_mode": {
    "name": "ipython",
    "version": 3
   },
   "file_extension": ".py",
   "mimetype": "text/x-python",
   "name": "python",
   "nbconvert_exporter": "python",
   "pygments_lexer": "ipython3",
   "version": "3.9.7"
  }
 },
 "nbformat": 4,
 "nbformat_minor": 5
}
