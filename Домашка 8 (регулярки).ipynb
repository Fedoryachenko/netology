{
 "cells": [
  {
   "cell_type": "markdown",
   "id": "33c521fa",
   "metadata": {},
   "source": [
    "- Задание 1\n",
    "\n",
    "Напишите функцию, которая принимает на вход строку и проверяет является ли она валидным транспортным номером (1 буква, 3 цифры, 2 буквы, 2-3 цифры). Обратите внимание, что не все буквы кириллического алфавита используются в транспортных номерах.\n",
    "\n",
    "Если номер валиден, то функция должна возвращать отдельно номер и регион.\n"
   ]
  },
  {
   "cell_type": "code",
   "execution_count": 2,
   "id": "4f433d85",
   "metadata": {},
   "outputs": [],
   "source": [
    "import re "
   ]
  },
  {
   "cell_type": "code",
   "execution_count": 51,
   "id": "e8737382",
   "metadata": {},
   "outputs": [
    {
     "name": "stdout",
     "output_type": "stream",
     "text": [
      "Введите транспотный номер: F777FF77\n",
      "Результат: Номер F777FF валиден. Регион: 77\n"
     ]
    }
   ],
   "source": [
    "def find_number():\n",
    "    enter = input('Введите транспотный номер: ')\n",
    "    find = r'([A-ZА-Я]{1}\\d{3}[A-ZА-Я]{2})(\\d{1,2})'\n",
    "    find_result = re.search(find, enter)\n",
    "    if find_result:\n",
    "        print(f\"Результат: Номер {find_result.group(1)} валиден. Регион: {find_result.group(2)}\")\n",
    "    else:\n",
    "        print(\"Результат: Номер не валиден\")\n",
    "        \n",
    "find_number()"
   ]
  },
  {
   "cell_type": "markdown",
   "id": "857871f9",
   "metadata": {},
   "source": [
    "- Задание 2\n",
    "\n",
    "Напишите функцию, которая будет удалять все последовательные повторы слов из заданной строки при помощи регулярных выражений.\n",
    "\n"
   ]
  },
  {
   "cell_type": "code",
   "execution_count": 117,
   "id": "5ffd0ce6",
   "metadata": {},
   "outputs": [
    {
     "data": {
      "text/plain": [
       "'Напишите функцию, которая будет удалять все последовательные повторы слов из заданной строки при помощи регулярных выражений.'"
      ]
     },
     "execution_count": 117,
     "metadata": {},
     "output_type": "execute_result"
    }
   ],
   "source": [
    "some_string = 'Напишите функцию функцию, которая будет будет будет будет удалять все все все все последовательные повторы слов из из из из заданной строки строки при помощи регулярных выражений.'\n",
    "\n",
    "def del_words():\n",
    "    pattern = r'(\\w+)(\\s\\1)+'\n",
    "    return re.sub(pattern, r'\\1', some_string)\n",
    "\n",
    "del_words()"
   ]
  },
  {
   "cell_type": "markdown",
   "id": "511b6404",
   "metadata": {},
   "source": [
    "- Задание 3\n",
    "\n",
    "Напишите функцию, которая будет возвращать акроним по переданной в нее строке со словами.\n"
   ]
  },
  {
   "cell_type": "code",
   "execution_count": 190,
   "id": "5d1461c3",
   "metadata": {},
   "outputs": [
    {
     "name": "stdout",
     "output_type": "stream",
     "text": [
      "some_words = Информационные технологии \n",
      "Результат: ИТ\n"
     ]
    }
   ],
   "source": [
    "some_words = input('some_words = ')\n",
    "\n",
    "def acronym():\n",
    "    new_words = re.findall(r'\\b\\w', some_words)\n",
    "    n_w  = ''.join(new_words)\n",
    "    print(f\"Результат: {n_w.upper()}\")\n",
    "    \n",
    "    \n",
    "acronym()\n",
    "\n"
   ]
  },
  {
   "cell_type": "markdown",
   "id": "4153af9f",
   "metadata": {},
   "source": [
    "- Задание 4\n",
    "\n",
    "Напишите функцию, которая будет принимать на вход список email-адресов и выводить их распределение по доменным зонам.\n",
    "\n"
   ]
  },
  {
   "cell_type": "code",
   "execution_count": 254,
   "id": "cfb5293d",
   "metadata": {},
   "outputs": [
    {
     "name": "stdout",
     "output_type": "stream",
     "text": [
      "gmail.com: 2 test.in: 1 ya.ru: 2 mail.ru: 1\n"
     ]
    }
   ],
   "source": [
    "emails = ['test@gmail.com', 'xyz@test.in', 'test@ya.ru', 'xyz@mail.ru', 'xyz@ya.ru', 'xyz@gmail.com']\n",
    "\n",
    "def email_dom():\n",
    "    domenian = {}\n",
    "    for i in re.findall(r'(?<=@)\\w+\\.\\w+', str(emails)):\n",
    "        domenian[i] = domenian.setdefault(i, 0) + 1\n",
    "    print (*(f'{i}: {j}' for i, j in domenian.items()), sep=' ')\n",
    "        \n",
    "                      \n",
    "email_dom()\n",
    "                      "
   ]
  },
  {
   "cell_type": "markdown",
   "id": "d5474968",
   "metadata": {},
   "source": [
    "- Задание 5 \n",
    "\n",
    "Напишите функцию, которая будет подсчитывать сколько слов начинается на гласные, а сколько на согласные буквы в тексте (текст может быть написан как с использованием букв кириллицы, так и латиницы).\n"
   ]
  },
  {
   "cell_type": "code",
   "execution_count": 338,
   "id": "e8f8c86b",
   "metadata": {},
   "outputs": [
    {
     "name": "stdout",
     "output_type": "stream",
     "text": [
      "Слов на гласные буквы: 9 \n",
      "Слов на согласные буквы: 21\n"
     ]
    }
   ],
   "source": [
    "some_text = 'Эталонной реализацией Python является интерпретатор CPython, поддерживающий большинство активно используемых платформ. Он распространяется под свободной лицензией Python Software Foundation License, позволяющей использовать его без ограничений в любых приложениях, включая проприетарные.'\n",
    "\n",
    "def count_w():\n",
    "    gl_letter = len(re.findall(r'\\b[eyuioaйуеыаоэёяию]\\w+', some_text, flags = re.I))\n",
    "    sg_letter = len(re.findall(r'\\b[^eyuioaйуеыаоэёяию ,.:;-]\\w*', some_text, flags = re.I))\n",
    "    print (f'Слов на гласные буквы: {gl_letter} \\nСлов на согласные буквы: {sg_letter}')\n",
    "    \n",
    "count_w()"
   ]
  }
 ],
 "metadata": {
  "kernelspec": {
   "display_name": "Python 3 (ipykernel)",
   "language": "python",
   "name": "python3"
  },
  "language_info": {
   "codemirror_mode": {
    "name": "ipython",
    "version": 3
   },
   "file_extension": ".py",
   "mimetype": "text/x-python",
   "name": "python",
   "nbconvert_exporter": "python",
   "pygments_lexer": "ipython3",
   "version": "3.9.7"
  }
 },
 "nbformat": 4,
 "nbformat_minor": 5
}
