{
 "cells": [
  {
   "cell_type": "code",
   "execution_count": 1,
   "id": "b59f4ceb",
   "metadata": {},
   "outputs": [],
   "source": [
    "import math\n",
    "import scipy.stats as st\n",
    "import numpy as np\n",
    "import pandas as pd\n",
    "import matplotlib.pyplot as plt"
   ]
  },
  {
   "cell_type": "markdown",
   "id": "b16722be",
   "metadata": {},
   "source": [
    "- Задание № 0\n",
    "\n",
    "Найдите минимально необходимый объем выборки для построения интервальной оценки среднего.\n",
    "\n",
    "\n",
    "желаемая точность Δ = 3;\n",
    "\n",
    "дисперсия σ2 = 225;\n",
    "\n",
    "уровень доверия β = 0.95.\n",
    "\n",
    "Ответ округлите до целого"
   ]
  },
  {
   "cell_type": "code",
   "execution_count": 18,
   "id": "18e0556a",
   "metadata": {},
   "outputs": [
    {
     "data": {
      "text/plain": [
       "68"
      ]
     },
     "execution_count": 18,
     "metadata": {},
     "output_type": "execute_result"
    }
   ],
   "source": [
    "accuracy = 3\n",
    "std = 15\n",
    "z = st.norm.ppf(0.95)\n",
    "n = round(((z * std) / accuracy) ** 2)\n",
    "n"
   ]
  },
  {
   "cell_type": "markdown",
   "id": "25425500",
   "metadata": {},
   "source": [
    "- Задание № 1\n",
    "\n",
    "Постройте 98 % доверительный интервал для среднего значения, если известно, что... (не копируется) "
   ]
  },
  {
   "cell_type": "code",
   "execution_count": 19,
   "id": "224b6921",
   "metadata": {},
   "outputs": [
    {
     "data": {
      "text/plain": [
       "12"
      ]
     },
     "execution_count": 19,
     "metadata": {},
     "output_type": "execute_result"
    }
   ],
   "source": [
    "n = 25\n",
    "x = 130\n",
    "std = 15\n",
    "disp = 0.02\n",
    "z = st.norm.ppf(0.98)\n",
    "\n",
    "accuracy = (std / math.sqrt(n)) * z\n",
    "CI_left = 130 - accuracy\n",
    "CI_right = 130 + accuracy\n",
    "\n",
    "L = round(CI_right - CI_left)\n",
    "\n",
    "L\n"
   ]
  },
  {
   "cell_type": "markdown",
   "id": "3971d3a2",
   "metadata": {},
   "source": [
    "- Задание № 2\n",
    "\n",
    "Даны две выборки роста мужчин и женщин.\n",
    "\n",
    "докажите, используя t-критерий Стьюдента, что различие между выборками незначительно, если уровень значимости равен α = 0.001.\n",
    "покажите различия визуально"
   ]
  },
  {
   "cell_type": "code",
   "execution_count": 22,
   "id": "79b8d169",
   "metadata": {},
   "outputs": [
    {
     "name": "stdout",
     "output_type": "stream",
     "text": [
      "3.6635841716708892\n",
      "Различия незначительны\n"
     ]
    }
   ],
   "source": [
    "np.random.seed(42) #фиксация случайности\n",
    "\n",
    "men  = st.norm.rvs(loc = 171, scale = 100, size = 150000)  # Выборка мужчин со средним ростом 171\n",
    "women = st.norm.rvs(loc = 170, scale = 100, size = 150000)  # Выборка женщин со средним ростом 170\n",
    "#В двух строчках выше генерируется две выбороки, где loc это среднее значение, а scale это дисперсия\n",
    "α = 0.001\n",
    "t, p = st.ttest_ind(men, women)\n",
    "\n",
    "print(t)\n",
    "\n",
    "if p < α:\n",
    "  print('Различия незначительны')\n",
    "else:\n",
    "  print('Различия значительны')"
   ]
  },
  {
   "cell_type": "code",
   "execution_count": 23,
   "id": "acb9028c",
   "metadata": {},
   "outputs": [
    {
     "data": {
      "text/plain": [
       "(array([3.4000e+01, 5.5200e+02, 4.5280e+03, 2.0073e+04, 4.4250e+04,\n",
       "        4.7373e+04, 2.5465e+04, 6.7820e+03, 8.9200e+02, 5.1000e+01]),\n",
       " array([-271.38859664, -185.05607354,  -98.72355044,  -12.39102734,\n",
       "          73.94149577,  160.27401887,  246.60654197,  332.93906507,\n",
       "         419.27158817,  505.60411128,  591.93663438]),\n",
       " <BarContainer object of 10 artists>)"
      ]
     },
     "execution_count": 23,
     "metadata": {},
     "output_type": "execute_result"
    },
    {
     "data": {
      "image/png": "[encoded data removed]",
      "text/plain": [
       "<Figure size 432x288 with 1 Axes>"
      ]
     },
     "metadata": {
      "needs_background": "light"
     },
     "output_type": "display_data"
    }
   ],
   "source": [
    "plt.hist(men)\n",
    "plt.hist(women)"
   ]
  },
  {
   "cell_type": "markdown",
   "id": "92897c4f",
   "metadata": {},
   "source": [
    "- Задание № 3\n",
    "\n",
    "Определите объем необходимой выборки для исследования среднего чека за кофе в случайном городе если известно, что в этом городе:\n",
    "\n",
    "стандартное отклонение σ=150 ;\n",
    "уровень доверия β = 95%;\n",
    "погрешность Δ=50 рублей."
   ]
  },
  {
   "cell_type": "code",
   "execution_count": 26,
   "id": "ab316ec8",
   "metadata": {},
   "outputs": [
    {
     "data": {
      "text/plain": [
       "24"
      ]
     },
     "execution_count": 26,
     "metadata": {},
     "output_type": "execute_result"
    }
   ],
   "source": [
    "std = 150\n",
    "CI = 0.95\n",
    "accuracy = 50\n",
    "z = st.norm.ppf(CI)\n",
    "\n",
    "n = round(((z * std) / accuracy) ** 2)\n",
    "\n",
    "n"
   ]
  },
  {
   "cell_type": "markdown",
   "id": "6c26b717",
   "metadata": {},
   "source": [
    "- Задание № 4\n",
    "\n",
    "Представьте, что вы хотите разоблачить \"волшебника\" который считает, что умеет предсказывать погоду на завтра, отвечая просто: дождь или солнце. Вы пронаблюдали за ответами \"волшебника\" в течении какого-то периода времени и получили некие результаты (см.ниже).\n",
    "\n",
    "Можно ли сказать, что маг действительно умеет предсказывать погоду? Уровень значимости принять за 0.05 ( α=0.05 ).\n",
    "\n"
   ]
  },
  {
   "cell_type": "code",
   "execution_count": 27,
   "id": "b88b7a90",
   "metadata": {},
   "outputs": [
    {
     "data": {
      "text/html": [
       "<div>\n",
       "<style scoped>\n",
       "    .dataframe tbody tr th:only-of-type {\n",
       "        vertical-align: middle;\n",
       "    }\n",
       "\n",
       "    .dataframe tbody tr th {\n",
       "        vertical-align: top;\n",
       "    }\n",
       "\n",
       "    .dataframe thead th {\n",
       "        text-align: right;\n",
       "    }\n",
       "</style>\n",
       "<table border=\"1\" class=\"dataframe\">\n",
       "  <thead>\n",
       "    <tr style=\"text-align: right;\">\n",
       "      <th></th>\n",
       "      <th>Верные ответы волшебника</th>\n",
       "      <th>Неверные ответы</th>\n",
       "    </tr>\n",
       "  </thead>\n",
       "  <tbody>\n",
       "    <tr>\n",
       "      <th>Дождь</th>\n",
       "      <td>10</td>\n",
       "      <td>15</td>\n",
       "    </tr>\n",
       "    <tr>\n",
       "      <th>Солнце</th>\n",
       "      <td>39</td>\n",
       "      <td>34</td>\n",
       "    </tr>\n",
       "  </tbody>\n",
       "</table>\n",
       "</div>"
      ],
      "text/plain": [
       "        Верные ответы волшебника  Неверные ответы\n",
       "Дождь                         10               15\n",
       "Солнце                        39               34"
      ]
     },
     "execution_count": 27,
     "metadata": {},
     "output_type": "execute_result"
    }
   ],
   "source": [
    "observations = pd.DataFrame([[10, 15],[39, 34]],\n",
    "                            index=['Дождь','Солнце'],\n",
    "                            columns=['Верные ответы волшебника','Неверные ответы'])\n",
    "observations"
   ]
  },
  {
   "cell_type": "code",
   "execution_count": 28,
   "id": "a0c37962",
   "metadata": {},
   "outputs": [
    {
     "name": "stdout",
     "output_type": "stream",
     "text": [
      "Не магия\n"
     ]
    }
   ],
   "source": [
    "α = 0.05\n",
    "oddsratio, pvalue = st.fisher_exact([[10, 15],[39, 34]])\n",
    "#H0 - не маг \n",
    "\n",
    "if pvalue < α:\n",
    "  print('Магия') #отвергаем H0\n",
    "else:\n",
    "  print('Не магия') #не отвергаем H0"
   ]
  },
  {
   "cell_type": "markdown",
   "id": "45d7bd89",
   "metadata": {},
   "source": [
    "- Задание № 5\n",
    "\n",
    "Используя функцию mean_confidence_interval(data, confidence), постройте доверительный интервал с уровнем доверия β=90% для выборки:"
   ]
  },
  {
   "cell_type": "code",
   "execution_count": 35,
   "id": "1c289816",
   "metadata": {},
   "outputs": [
    {
     "data": {
      "text/plain": [
       "(6.07363110319857, 7.183511753944288)"
      ]
     },
     "execution_count": 35,
     "metadata": {},
     "output_type": "execute_result"
    }
   ],
   "source": [
    "data = [4,5,8,9,6,7,5,6,7,8,5,6,7,0,9,8,4,6,\n",
    "        7,9,8,6,5,7,8,9,6,7,5,8,6,7,9,5,10]\n",
    "\n",
    "def mean_confidence_interval(data, confidence = 0.90):\n",
    "    n = len(data)\n",
    "    x, sem = np.mean(data), st.sem(data)\n",
    "    accuracy = sem * st.t.ppf((1 + confidence) / 2, n-1)\n",
    "    return x - accuracy, x + accuracy\n",
    "\n",
    "mean_confidence_interval(data, confidence = 0.90)"
   ]
  },
  {
   "cell_type": "markdown",
   "id": "73b0e535",
   "metadata": {},
   "source": [
    "- Задание № 6\n",
    "\n",
    "Принадлежат ли выборки A и B одному множеству?\n",
    "\n",
    "оцените это с помощью известных вам тестов для проверок статистических гипотез;\n",
    "покажите различия визуально."
   ]
  },
  {
   "cell_type": "code",
   "execution_count": 36,
   "id": "c9abc8bc",
   "metadata": {},
   "outputs": [
    {
     "name": "stdout",
     "output_type": "stream",
     "text": [
      "Выборки не принадлежат одному множеству\n"
     ]
    }
   ],
   "source": [
    "A = [4,5,8,9,6,7,5,6,7,6,8,5,6,7,8,4,\n",
    "    6,7,9,8,6,5,7,8,6,7,5,6,8,6,7,5,\n",
    "    4,5,8,9,6,7,5,6,7,6,8,5,6,7,8,4,\n",
    "    6,7,9,8,6,5,7,8,6,7,5,6,8,6,7,5,\n",
    "    4,5,8,9,6,7,5,6,7,6,8,5,6,7,8,4,\n",
    "    6,7,9,8,6,5,7,8,6,7,5,6,8,6,7,5,\n",
    "    4,5,8,9,6,7,5,6,7,6,8,5,6,7,8,4]\n",
    "\n",
    "B = [5,6,7,8,4,6,7,2,6,5,7,5,3,5,3,\n",
    "    5,3,5,5,8,7,6,4,5,3,5,4,6,4,5,3,\n",
    "    2,6,4,3,5,4,3,4,5,4,3,4,5,4,3,4,\n",
    "    2,6,4,3,5,4,3,4,5,4,3,4,5,4,3,4,\n",
    "    3,4,4,1,2,4,3,2,4,3,2,1,5,3,4,6,\n",
    "    3,2,4,5,6,4,3,3,5,3,4,4,4,2,5,3]\n",
    " \n",
    "α = 0.05\n",
    "t, p = st.ttest_ind(A, B)\n",
    "\n",
    "if pvalue < α:\n",
    "  print('Выборки принадлежат одному множеству')\n",
    "else:\n",
    "  print('Выборки не принадлежат одному множеству')"
   ]
  },
  {
   "cell_type": "code",
   "execution_count": 37,
   "id": "b944f932",
   "metadata": {},
   "outputs": [
    {
     "data": {
      "text/plain": [
       "(array([ 2.,  8., 22.,  0., 28., 20.,  0.,  9.,  4.,  2.]),\n",
       " array([1. , 1.7, 2.4, 3.1, 3.8, 4.5, 5.2, 5.9, 6.6, 7.3, 8. ]),\n",
       " <BarContainer object of 10 artists>)"
      ]
     },
     "execution_count": 37,
     "metadata": {},
     "output_type": "execute_result"
    },
    {
     "data": {
      "image/png": "[encoded data removed]",
      "text/plain": [
       "<Figure size 432x288 with 1 Axes>"
      ]
     },
     "metadata": {
      "needs_background": "light"
     },
     "output_type": "display_data"
    }
   ],
   "source": [
    "plt.hist(A)\n",
    "plt.hist(B)"
   ]
  },
  {
   "cell_type": "markdown",
   "id": "ebe41dcd",
   "metadata": {},
   "source": [
    "- Задание № 7 (задание без подвоха)\n",
    "\n",
    "На примере датасета про жилье в New York City, мы сталкивались с примером, когда переменная имеет не совсем нормальное распределение.\n",
    "\n",
    "Предположим, Вы сформировали две гипотезы:\n",
    "\n",
    "нулевая гипотеза - распределение нормальное;\n",
    "альтернативная гипотеза - распределение ненормальное.\n",
    "Допустим, вы применили какой-то тест (сейчас неважно какой), который показал уровень значимости p-value = 0.03.\n",
    "\n",
    "Каковы будут ваши выводы?\n",
    "\n",
    "Будем считать, что у нас нормальное распределение или все-таки нет?"
   ]
  },
  {
   "cell_type": "code",
   "execution_count": 40,
   "id": "914b0a0a",
   "metadata": {},
   "outputs": [
    {
     "name": "stdout",
     "output_type": "stream",
     "text": [
      "Отвергаем H0\n"
     ]
    }
   ],
   "source": [
    "#H0 - распределение нормальное\n",
    "#H1 - распределение ненормальное\n",
    "p = 0.03\n",
    "α = 0.05 \n",
    "\n",
    "if p < α:\n",
    "  print('Отвергаем H0')\n",
    "else:\n",
    "  print('Не отвергаем H0 - распределение нормальное')"
   ]
  },
  {
   "cell_type": "markdown",
   "id": "afec9113",
   "metadata": {},
   "source": [
    "- Задание № 8\n",
    "\n",
    "Первая выборка — это пациенты, которых лечили препаратом А. Вторая выборка — пациенты, которых лечили препаратом B.\n",
    "\n",
    "Значения в выборках — это некоторая характеристика эффективности лечения (уровень метаболита в крови, температура через три дня после начала лечения, срок выздоровления, число койко-дней, и т.д.)\n",
    "\n",
    "Требуется выяснить, имеется ли значимое различие эффективности препаратов А и B, или различия являются чисто случайными и объясняются «естественной» дисперсией выбранной характеристики. (уровень значимости принять за 0.05 (5%))\n",
    "\n",
    "при каком минимальном p-value различия были бы уже значимы?\n",
    "если выборки незначительно отличаются, то продемонстрируйте это визуально.\n"
   ]
  },
  {
   "cell_type": "code",
   "execution_count": 41,
   "id": "329c4a4a",
   "metadata": {},
   "outputs": [
    {
     "name": "stdout",
     "output_type": "stream",
     "text": [
      "0.051284961272800134\n",
      "Не отвергаем H0 - различий нет\n"
     ]
    }
   ],
   "source": [
    "np.random.seed(11)\n",
    "A = st.norm.rvs(scale=15, loc=169, size=300)\n",
    "B = st.norm.rvs(scale=14, loc=171.4, size=300)\n",
    "\n",
    "α = 0.05\n",
    "stat, p = st.ttest_ind(A, B, equal_var=False) \n",
    "print(p)\n",
    "\n",
    "#если применить метод ttest_rel, то p < α\n",
    "\n",
    "#H0 - различий нет\n",
    "#H1 - различия есть\n",
    "if p < α:\n",
    "  print('Отвергаем H0')\n",
    "else:\n",
    "  print('Не отвергаем H0 - различий нет')"
   ]
  },
  {
   "cell_type": "markdown",
   "id": "f1dadd29",
   "metadata": {},
   "source": [
    "при каком минимальном p-value различия были бы уже значимы?\n",
    "При p = α, думаю, можно говорить о значимом различии\n",
    "\n",
    "При \"минимальном\" ли? Скорее максимальном. Если статистическая значимость появляется при p == alpha, и чем меньше p, тем сильнее различие между выборками.\n"
   ]
  },
  {
   "cell_type": "code",
   "execution_count": 42,
   "id": "a3d70699",
   "metadata": {},
   "outputs": [
    {
     "data": {
      "text/plain": [
       "(array([ 1.,  3., 11., 29., 40., 76., 69., 38., 23., 10.]),\n",
       " array([122.95604119, 131.18964287, 139.42324455, 147.65684623,\n",
       "        155.89044792, 164.1240496 , 172.35765128, 180.59125296,\n",
       "        188.82485464, 197.05845633, 205.29205801]),\n",
       " <BarContainer object of 10 artists>)"
      ]
     },
     "execution_count": 42,
     "metadata": {},
     "output_type": "execute_result"
    },
    {
     "data": {
      "image/png": "[encoded data removed]",
      "text/plain": [
       "<Figure size 432x288 with 1 Axes>"
      ]
     },
     "metadata": {
      "needs_background": "light"
     },
     "output_type": "display_data"
    }
   ],
   "source": [
    "plt.hist(A)\n",
    "plt.hist(B)"
   ]
  },
  {
   "cell_type": "code",
   "execution_count": null,
   "id": "14089f4a",
   "metadata": {},
   "outputs": [],
   "source": []
  },
  {
   "cell_type": "code",
   "execution_count": null,
   "id": "f824a493",
   "metadata": {},
   "outputs": [],
   "source": []
  },
  {
   "cell_type": "code",
   "execution_count": null,
   "id": "d285a0d7",
   "metadata": {},
   "outputs": [],
   "source": []
  }
 ],
 "metadata": {
  "kernelspec": {
   "display_name": "Python 3 (ipykernel)",
   "language": "python",
   "name": "python3"
  },
  "language_info": {
   "codemirror_mode": {
    "name": "ipython",
    "version": 3
   },
   "file_extension": ".py",
   "mimetype": "text/x-python",
   "name": "python",
   "nbconvert_exporter": "python",
   "pygments_lexer": "ipython3",
   "version": "3.9.7"
  }
 },
 "nbformat": 4,
 "nbformat_minor": 5
}
